{
 "cells": [
  {
   "cell_type": "markdown",
   "metadata": {},
   "source": [
    "# TASK\n",
    "```\n",
    "\n",
    "● Fetch all the tweets(as many as allowed by Twitter\n",
    "API) done by midas@IIITD twitter handle and dump the responses into JSONlines file.\n",
    "\n",
    "Your script should be able to parse these JSONline files to display the\n",
    "following for every tweet in a tabular format.\n",
    "● The text of the tweet.\\\n",
    "● Date and time of the tweet.\n",
    "● The number of favorites/likes.\n",
    "● The number of retweets.\n",
    "● Number of Images present in Tweet. If no image returns None.\n",
    "```"
   ]
  },
  {
   "cell_type": "code",
   "execution_count": 24,
   "metadata": {},
   "outputs": [
    {
     "name": "stdout",
     "output_type": "stream",
     "text": [
      "Collecting json-lines\n",
      "  Downloading https://files.pythonhosted.org/packages/7f/0f/79c96c0d26b276c583484fe8209e5ebbb416a920309568650325f6e1de73/json_lines-0.5.0-py2.py3-none-any.whl\n",
      "Requirement already satisfied: six in /home/aman/.local/lib/python3.5/site-packages (from json-lines) (1.12.0)\n",
      "Installing collected packages: json-lines\n",
      "Successfully installed json-lines-0.5.0\n"
     ]
    }
   ],
   "source": [
    "!pip install --user json-lines"
   ]
  },
  {
   "cell_type": "code",
   "execution_count": 2,
   "metadata": {},
   "outputs": [],
   "source": [
    "import tweepy"
   ]
  },
  {
   "cell_type": "code",
   "execution_count": 3,
   "metadata": {},
   "outputs": [],
   "source": [
    "api_key='****'# (API key)\n",
    "\n",
    "api_secret_key ='****'# (API secret key)\n",
    "\n",
    "access_token ='****' # (Access token)\n",
    "\n",
    "access_token_secret ='****' # (Access token secret)"
   ]
  },
  {
   "cell_type": "code",
   "execution_count": 37,
   "metadata": {},
   "outputs": [],
   "source": [
    "import json_lines\n",
    "import json\n",
    "import csv"
   ]
  },
  {
   "cell_type": "code",
   "execution_count": 5,
   "metadata": {},
   "outputs": [],
   "source": [
    "#build twitter credential json\n",
    "\n",
    "tw_cred =dict()\n",
    "tw_cred['CONSUMER_KEY'] = api_key\n",
    "tw_cred['CONSUMER_SECRET'] = api_secret_key\n",
    "tw_cred['ACCESS_KEY'] = access_token\n",
    "tw_cred['ACCESS_SECRET'] = access_token_secret\n",
    "\n",
    "with open('twitter_credential.json','w') as secret_info:\n",
    "    json.dump(tw_cred, secret_info, indent = 4, sort_keys = True)"
   ]
  },
  {
   "cell_type": "code",
   "execution_count": 6,
   "metadata": {},
   "outputs": [],
   "source": [
    "# load Twitter API credentials\n",
    "\n",
    "with open('twitter_credential.json') as cred_data:\n",
    "    info = json.load(cred_data)\n",
    "\n",
    "consumer_key = info['CONSUMER_KEY']\n",
    "consumer_secret = info['CONSUMER_SECRET']\n",
    "access_key = info['ACCESS_KEY']\n",
    "access_secret = info['ACCESS_SECRET']\n"
   ]
  },
  {
   "cell_type": "code",
   "execution_count": 56,
   "metadata": {},
   "outputs": [],
   "source": [
    " def get_tweet(username):\n",
    "        #credential authorisation\n",
    "        auth = tweepy.OAuthHandler(consumer_key, consumer_secret)\n",
    "        auth.set_access_token(access_key, access_secret)\n",
    "        api = tweepy.API(auth)\n",
    "        \n",
    "        all_tweet =[]\n",
    "        \n",
    "        new_tweets = api.user_timeline(screen_name=username, count=10)#200\n",
    "        all_tweet.extend(new_tweets)\n",
    "        #return all_tweet\n",
    "    \n",
    "\n",
    "        \n",
    "        # save id of 1 less than the oldest tweet\n",
    "\n",
    "        oldest_tweet = all_tweet[-1].id - 1\n",
    "\n",
    "         # grabbing tweets till none are left\n",
    "\n",
    "        while len(new_tweets)>0:\n",
    "            # The max_id param will be used subsequently to prevent duplicates\n",
    "            new_tweets = api.user_timeline(screen_name=username,\n",
    "            count=10, max_id=oldest_tweet)\n",
    "\n",
    "            # save most recent tweets\n",
    "\n",
    "            all_tweet.extend(new_tweets)\n",
    "\n",
    "            # id is updated to oldest tweet - 1 to keep track\n",
    "\n",
    "            oldest_tweet = all_tweet[-1].id - 1\n",
    "            print ('...%s tweets have been downloaded so far' % len(all_tweet))\n",
    "\n",
    "            # transforming the tweets into a 2D array that will be used to populate the csv\n",
    "\n",
    "        outtweets = [[tweet.id_str, tweet.created_at,\n",
    "        tweet.text.encode('utf-8'), tweet.favorite_count, tweet.retweet_count] for tweet in all_tweet]\n",
    "\n",
    "#         # writing to the csv file\n",
    "        \n",
    "        with open(username + '_tweets.csv', 'w', encoding='utf8') as f:\n",
    "            writer = csv.writer(f)\n",
    "            writer.writerow(['id', 'created_at', 'text', 'favorite_count', 'retweet_count'])\n",
    "            writer.writerows(outtweets)\n",
    "            \n",
    "        return all_tweet"
   ]
  },
  {
   "cell_type": "markdown",
   "metadata": {},
   "source": [
    "# Fetching tweets"
   ]
  },
  {
   "cell_type": "code",
   "execution_count": 59,
   "metadata": {
    "scrolled": false
   },
   "outputs": [
    {
     "name": "stdout",
     "output_type": "stream",
     "text": [
      "...20 tweets have been downloaded so far\n",
      "...30 tweets have been downloaded so far\n",
      "...40 tweets have been downloaded so far\n",
      "...50 tweets have been downloaded so far\n",
      "...60 tweets have been downloaded so far\n",
      "...70 tweets have been downloaded so far\n",
      "...80 tweets have been downloaded so far\n",
      "...90 tweets have been downloaded so far\n",
      "...100 tweets have been downloaded so far\n",
      "...110 tweets have been downloaded so far\n",
      "...120 tweets have been downloaded so far\n",
      "...130 tweets have been downloaded so far\n",
      "...140 tweets have been downloaded so far\n",
      "...150 tweets have been downloaded so far\n",
      "...160 tweets have been downloaded so far\n",
      "...170 tweets have been downloaded so far\n",
      "...180 tweets have been downloaded so far\n",
      "...190 tweets have been downloaded so far\n",
      "...200 tweets have been downloaded so far\n",
      "...210 tweets have been downloaded so far\n",
      "...220 tweets have been downloaded so far\n",
      "...230 tweets have been downloaded so far\n",
      "...240 tweets have been downloaded so far\n",
      "...250 tweets have been downloaded so far\n",
      "...260 tweets have been downloaded so far\n",
      "...270 tweets have been downloaded so far\n",
      "...280 tweets have been downloaded so far\n",
      "...290 tweets have been downloaded so far\n",
      "...300 tweets have been downloaded so far\n",
      "...302 tweets have been downloaded so far\n",
      "...302 tweets have been downloaded so far\n"
     ]
    }
   ],
   "source": [
    "tweetss = get_tweet('midasIIITD')"
   ]
  },
  {
   "cell_type": "code",
   "execution_count": 80,
   "metadata": {
    "scrolled": true
   },
   "outputs": [
    {
     "name": "stdout",
     "output_type": "stream",
     "text": [
      "[]\n"
     ]
    }
   ],
   "source": [
    "media = (tweetss[0].entities).get('media',[])\n",
    "print(media)"
   ]
  },
  {
   "cell_type": "code",
   "execution_count": 62,
   "metadata": {},
   "outputs": [],
   "source": [
    "# with open('output.jsonl', 'w') as outfile:\n",
    "#     for entry in JSON_file:\n",
    "#         json.dump(entry, outfile)\n",
    "#         outfile.write('\\n')\n",
    "\n",
    "with open('tweetMIDAS.jsonl','w') as writer:\n",
    "    for tweet in tweetss:\n",
    "        json.dump(tweet._json, writer)\n",
    "        writer.write('\\n')"
   ]
  },
  {
   "cell_type": "code",
   "execution_count": 84,
   "metadata": {
    "scrolled": false
   },
   "outputs": [
    {
     "data": {
      "text/plain": [
       "'RT @RepJerryNadler: “The Special Counsel states that ‘while this report does not conclude that the President committed a crime, it also doe…'"
      ]
     },
     "execution_count": 84,
     "metadata": {},
     "output_type": "execute_result"
    }
   ],
   "source": [
    "(c[2].text)"
   ]
  },
  {
   "cell_type": "markdown",
   "metadata": {},
   "source": [
    "# Parsing JSON Lines Files "
   ]
  },
  {
   "cell_type": "code",
   "execution_count": 81,
   "metadata": {
    "collapsed": true
   },
   "outputs": [
    {
     "name": "stdout",
     "output_type": "stream",
     "text": [
      "{\n",
      "    \"possibly_sensitive\": false,\n",
      "    \"is_quote_status\": false,\n",
      "    \"favorite_count\": 9,\n",
      "    \"in_reply_to_status_id_str\": null,\n",
      "    \"user\": {\n",
      "        \"geo_enabled\": false,\n",
      "        \"favourites_count\": 123,\n",
      "        \"has_extended_profile\": false,\n",
      "        \"time_zone\": null,\n",
      "        \"is_translation_enabled\": false,\n",
      "        \"utc_offset\": null,\n",
      "        \"profile_sidebar_fill_color\": \"DDEEF6\",\n",
      "        \"location\": \"New Delhi, India\",\n",
      "        \"description\": \"MIDAS is a group of researchers at IIIT-Delhi who study, analyze, and build different multimedia systems for society leveraging multimodal information.\",\n",
      "        \"default_profile_image\": false,\n",
      "        \"default_profile\": true,\n",
      "        \"profile_background_color\": \"F5F8FA\",\n",
      "        \"friends_count\": 39,\n",
      "        \"statuses_count\": 302,\n",
      "        \"profile_banner_url\": \"https://pbs.twimg.com/profile_banners/1021355762575073281/1552394509\",\n",
      "        \"name\": \"MIDAS IIITD\",\n",
      "        \"translator_type\": \"none\",\n",
      "        \"notifications\": false,\n",
      "        \"created_at\": \"Mon Jul 23 11:26:04 +0000 2018\",\n",
      "        \"protected\": false,\n",
      "        \"verified\": false,\n",
      "        \"profile_background_image_url_https\": null,\n",
      "        \"following\": false,\n",
      "        \"follow_request_sent\": false,\n",
      "        \"contributors_enabled\": false,\n",
      "        \"is_translator\": false,\n",
      "        \"profile_sidebar_border_color\": \"C0DEED\",\n",
      "        \"profile_image_url\": \"http://pbs.twimg.com/profile_images/1021356444921212928/WmSTJCUs_normal.jpg\",\n",
      "        \"profile_link_color\": \"1DA1F2\",\n",
      "        \"listed_count\": 0,\n",
      "        \"url\": \"https://t.co/Uwg7oSM6mE\",\n",
      "        \"profile_image_url_https\": \"https://pbs.twimg.com/profile_images/1021356444921212928/WmSTJCUs_normal.jpg\",\n",
      "        \"lang\": \"en\",\n",
      "        \"id_str\": \"1021355762575073281\",\n",
      "        \"entities\": {\n",
      "            \"description\": {\n",
      "                \"urls\": []\n",
      "            },\n",
      "            \"url\": {\n",
      "                \"urls\": [\n",
      "                    {\n",
      "                        \"display_url\": \"midas.iiitd.edu.in\",\n",
      "                        \"expanded_url\": \"http://midas.iiitd.edu.in/\",\n",
      "                        \"url\": \"https://t.co/Uwg7oSM6mE\",\n",
      "                        \"indices\": [\n",
      "                            0,\n",
      "                            23\n",
      "                        ]\n",
      "                    }\n",
      "                ]\n",
      "            }\n",
      "        },\n",
      "        \"profile_background_image_url\": null,\n",
      "        \"followers_count\": 182,\n",
      "        \"screen_name\": \"midasIIITD\",\n",
      "        \"profile_use_background_image\": true,\n",
      "        \"id\": 1021355762575073281,\n",
      "        \"profile_text_color\": \"333333\",\n",
      "        \"profile_background_tile\": false\n",
      "    },\n",
      "    \"coordinates\": null,\n",
      "    \"source\": \"<a href=\\\"http://twitter.com\\\" rel=\\\"nofollow\\\">Twitter Web Client</a>\",\n",
      "    \"geo\": null,\n",
      "    \"contributors\": null,\n",
      "    \"retweeted\": false,\n",
      "    \"truncated\": true,\n",
      "    \"created_at\": \"Mon Mar 25 13:01:57 +0000 2019\",\n",
      "    \"place\": null,\n",
      "    \"text\": \"Congratulations @midasIIITD students Simra Shahid @Simcyy and Nilay Shrivastava @NilayShri on getting selected for\\u2026 https://t.co/Irr6SfKMZI\",\n",
      "    \"favorited\": false,\n",
      "    \"in_reply_to_user_id_str\": null,\n",
      "    \"entities\": {\n",
      "        \"symbols\": [],\n",
      "        \"user_mentions\": [\n",
      "            {\n",
      "                \"screen_name\": \"midasIIITD\",\n",
      "                \"id_str\": \"1021355762575073281\",\n",
      "                \"name\": \"MIDAS IIITD\",\n",
      "                \"id\": 1021355762575073281,\n",
      "                \"indices\": [\n",
      "                    16,\n",
      "                    27\n",
      "                ]\n",
      "            },\n",
      "            {\n",
      "                \"screen_name\": \"Simcyy\",\n",
      "                \"id_str\": \"951083714682830848\",\n",
      "                \"name\": \"Simra shahid\",\n",
      "                \"id\": 951083714682830848,\n",
      "                \"indices\": [\n",
      "                    50,\n",
      "                    57\n",
      "                ]\n",
      "            },\n",
      "            {\n",
      "                \"screen_name\": \"NilayShri\",\n",
      "                \"id_str\": \"2534161843\",\n",
      "                \"name\": \"Nilay Shrivastava\",\n",
      "                \"id\": 2534161843,\n",
      "                \"indices\": [\n",
      "                    80,\n",
      "                    90\n",
      "                ]\n",
      "            }\n",
      "        ],\n",
      "        \"urls\": [\n",
      "            {\n",
      "                \"display_url\": \"twitter.com/i/web/status/1\\u2026\",\n",
      "                \"expanded_url\": \"https://twitter.com/i/web/status/1110164921352744962\",\n",
      "                \"url\": \"https://t.co/Irr6SfKMZI\",\n",
      "                \"indices\": [\n",
      "                    116,\n",
      "                    139\n",
      "                ]\n",
      "            }\n",
      "        ],\n",
      "        \"hashtags\": []\n",
      "    },\n",
      "    \"lang\": \"en\",\n",
      "    \"id_str\": \"1110164921352744962\",\n",
      "    \"in_reply_to_user_id\": null,\n",
      "    \"in_reply_to_screen_name\": null,\n",
      "    \"id\": 1110164921352744962,\n",
      "    \"in_reply_to_status_id\": null,\n",
      "    \"retweet_count\": 1\n",
      "}\n"
     ]
    }
   ],
   "source": [
    "import json\n",
    " \n",
    "with open('tweetMIDAS.jsonl', 'r') as f:\n",
    "    line = f.readline() # read only the first tweet/line\n",
    "    tweet = json.loads(line) # load it as Python dict\n",
    "    print(json.dumps(tweet, indent=4)) "
   ]
  },
  {
   "cell_type": "code",
   "execution_count": 90,
   "metadata": {},
   "outputs": [
    {
     "data": {
      "text/plain": [
       "('Congratulations @midasIIITD students Simra Shahid @Simcyy and Nilay Shrivastava @NilayShri on getting selected for… https://t.co/Irr6SfKMZI',\n",
       " 'Mon Mar 25 13:01:57 +0000 2019',\n",
       " 9,\n",
       " 1,\n",
       " [{'display_url': 'twitter.com/i/web/status/1…',\n",
       "   'expanded_url': 'https://twitter.com/i/web/status/1110164921352744962',\n",
       "   'indices': [116, 139],\n",
       "   'url': 'https://t.co/Irr6SfKMZI'}])"
      ]
     },
     "execution_count": 90,
     "metadata": {},
     "output_type": "execute_result"
    }
   ],
   "source": [
    "tweet['text'],tweet['created_at'],tweet['favorite_count'],tweet['retweet_count'], tweet['entities']['urls']"
   ]
  },
  {
   "cell_type": "markdown",
   "metadata": {
    "collapsed": true
   },
   "source": [
    "# Structure of Status object\n",
    "\n",
    "```\n",
    "Status = {lang='en',\n",
    "          text='One more week is left to submit the workshop proposal to @IEEEBigMM19. \\nLooking forward to your submission. For any… https://t.co/MeaYTlKGjg',\n",
    "          id=1109780512330022918,\n",
    "          in_reply_to_user_id_str='1021355762575073281',\n",
    "          favorite_count=2,\n",
    "          source='Twitter Web Client',\n",
    "          in_reply_to_user_id=1021355762575073281,\n",
    "          _api=<tweepy.api.API object at 0x7f44f1cab080>,\n",
    "          user=User(location='New Delhi, India',\n",
    "                    profile_background_image_url_https=None,\n",
    "                    time_zone=None,\n",
    "                    profile_background_tile=False,\n",
    "                    screen_name='midasIIITD',\n",
    "                    profile_image_url_https='https://pbs.twimg.com/profile_images/1021356444921212928/WmSTJCUs_normal.jpg',\n",
    "                    profile_image_url='http://pbs.twimg.com/profile_images/1021356444921212928/WmSTJCUs_normal.jpg',\n",
    "                    listed_count=0,\n",
    "                    profile_background_image_url=None,\n",
    "                    profile_use_background_image=True,\n",
    "                    entities={'description': {'urls': []}, 'url': {'urls': [{'indices': [0, 23], 'display_url': 'midas.iiitd.edu.in', 'expanded_url': 'http://midas.iiitd.edu.in/', 'url': 'https://t.co/Uwg7oSM6mE'}]}},\n",
    "                    url='https://t.co/Uwg7oSM6mE',\n",
    "                    friends_count=39,\n",
    "                    created_at=datetime.datetime(2018, 7, 23, 11, 26, 4),\n",
    "                    notifications=False,\n",
    "                    statuses_count=299,\n",
    "                    id_str='1021355762575073281',\n",
    "                    profile_background_color='F5F8FA',\n",
    "                    profile_sidebar_fill_color='DDEEF6',\n",
    "                    default_profile_image=False,\n",
    "                    id=1021355762575073281,\n",
    "                    lang='en',\n",
    "                    is_translation_enabled=False,\n",
    "                    verified=False,\n",
    "                    protected=False,\n",
    "                    _api=<tweepy.api.API object at 0x7f44f1cab080>,\n",
    "                    name='MIDAS IIITD',\n",
    "                    follow_request_sent=False,\n",
    "                    favourites_count=120,\n",
    "                    has_extended_profile=False,\n",
    "                    translator_type='none',\n",
    "                    profile_sidebar_border_color='C0DEED',\n",
    "                    followers_count=177,\n",
    "                    contributors_enabled=False,\n",
    "                    utc_offset=None,\n",
    "                    following=False,\n",
    "                    geo_enabled=False,\n",
    "                    profile_link_color='1DA1F2',\n",
    "                    profile_text_color='333333',\n",
    "                    _json={'translator_type': 'none', 'id_str': '1021355762575073281', 'location': 'New Delhi, India', 'profile_background_image_url_https': None, 'time_zone': None, 'contributors_enabled': False, 'id': 1021355762575073281, 'profile_background_tile': False, 'profile_use_background_image': True, 'lang': 'en', 'is_translation_enabled': False, 'verified': False, 'protected': False, 'name': 'MIDAS IIITD', 'screen_name': 'midasIIITD', 'favourites_count': 120, 'profile_background_image_url': None, 'profile_background_color': 'F5F8FA', 'has_extended_profile': False, 'profile_image_url_https': 'https://pbs.twimg.com/profile_images/1021356444921212928/WmSTJCUs_normal.jpg', 'profile_image_url': 'http://pbs.twimg.com/profile_images/1021356444921212928/WmSTJCUs_normal.jpg', 'utc_offset': None, 'listed_count': 0, 'default_profile': True, 'followers_count': 177, 'following': False, 'geo_enabled': False, 'profile_link_color': '1DA1F2', 'profile_sidebar_fill_color': 'DDEEF6', 'entities': {'description': {'urls': []}, 'url': {'urls': [{'indices': [0, 23], 'display_url': 'midas.iiitd.edu.in', 'expanded_url': 'http://midas.iiitd.edu.in/', 'url': 'https://t.co/Uwg7oSM6mE'}]}},\n",
    "                           'profile_text_color': '333333', 'notifications': False, 'url': 'https://t.co/Uwg7oSM6mE', 'friends_count': 39, 'created_at': 'Mon Jul 23 11:26:04 +0000 2018', 'profile_sidebar_border_color': 'C0DEED', 'follow_request_sent': False, 'profile_banner_url': 'https://pbs.twimg.com/profile_banners/1021355762575073281/1552394509', 'description': 'MIDAS is a group of researchers at IIIT-Delhi who study, analyze, and build different multimedia systems for society leveraging multimodal information.', 'default_profile_image': False, 'is_translator': False, 'statuses_count': 299}, profile_banner_url='https://pbs.twimg.com/profile_banners/1021355762575073281/1552394509', default_profile=True, description='MIDAS is a group of researchers at IIIT-Delhi who study, analyze, and build different multimedia systems for society leveraging multimodal information.', is_translator=False), retweeted=False, geo=None, place=None, coordinates=None, truncated=True, favorited=False, source_url='http://twitter.com', entities={'user_mentions': [{'id': 1108061173130223616, 'id_str': '1108061173130223616', 'indices': [57, 69], 'name': 'IEEE BigMM 2019', 'screen_name': 'IEEEBigMM19'}],\n",
    "                           'hashtags': [], 'symbols': [], 'urls': [{'indices': [117, 140], 'display_url': 'twitter.com/i/web/status/1…', 'expanded_url': 'https://twitter.com/i/web/status/1109780512330022918', 'url': 'https://t.co/MeaYTlKGjg'}]},\n",
    "          in_reply_to_screen_name='midasIIITD',\n",
    "          in_reply_to_status_id_str='1106847696327827456',\n",
    "          id_str='1109780512330022918',\n",
    "          _json={'lang': 'en',\n",
    "                 'text': 'One more week is left to submit the workshop proposal to @IEEEBigMM19. \\nLooking forward to your submission. For any… https://t.co/MeaYTlKGjg',\n",
    "                 'id': 1109780512330022918,\n",
    "                 'in_reply_to_user_id_str': '1021355762575073281',\n",
    "                 'favorite_count': 2,\n",
    "                 'source': '<a href=\"http://twitter.com\" rel=\"nofollow\">Twitter Web Client</a>',\n",
    "                 'in_reply_to_user_id': 1021355762575073281,\n",
    "                 'user': {'translator_type': 'none', 'id_str': '1021355762575073281', 'location': 'New Delhi, India', 'profile_background_image_url_https': None, 'time_zone': None, 'contributors_enabled': False, 'id': 1021355762575073281, 'profile_background_tile': False, 'profile_use_background_image': True, 'lang': 'en', 'is_translation_enabled': False, 'verified': False, 'protected': False, 'name': 'MIDAS IIITD', 'screen_name': 'midasIIITD', 'favourites_count': 120, 'profile_background_image_url': None, 'profile_background_color': 'F5F8FA', 'has_extended_profile': False, 'profile_image_url_https': 'https://pbs.twimg.com/profile_images/1021356444921212928/WmSTJCUs_normal.jpg', 'profile_image_url': 'http://pbs.twimg.com/profile_images/1021356444921212928/WmSTJCUs_normal.jpg', 'utc_offset': None, 'listed_count': 0, 'default_profile': True, 'followers_count': 177, 'following': False, 'geo_enabled': False, 'profile_link_color': '1DA1F2', 'profile_sidebar_fill_color': 'DDEEF6', 'entities': {'description': {'urls': []}, 'url': {'urls': [{'indices': [0, 23], 'display_url': 'midas.iiitd.edu.in', 'expanded_url': 'http://midas.iiitd.edu.in/', 'url': 'https://t.co/Uwg7oSM6mE'}]}},\n",
    "                          'profile_text_color': '333333', 'notifications': False, 'url': 'https://t.co/Uwg7oSM6mE', 'friends_count': 39, 'created_at': 'Mon Jul 23 11:26:04 +0000 2018', 'profile_sidebar_border_color': 'C0DEED', 'follow_request_sent': False, 'profile_banner_url': 'https://pbs.twimg.com/profile_banners/1021355762575073281/1552394509', 'description': 'MIDAS is a group of researchers at IIIT-Delhi who study, analyze, and build different multimedia systems for society leveraging multimodal information.', 'default_profile_image': False, 'is_translator': False, 'statuses_count': 299}, 'retweeted': False, 'geo': None, 'coordinates': None, 'truncated': True, 'is_quote_status': False, 'entities': {'user_mentions': [{'id': 1108061173130223616, 'id_str': '1108061173130223616', 'indices': [57, 69], 'name': 'IEEE BigMM 2019', 'screen_name': 'IEEEBigMM19'}],\n",
    "                          'hashtags': [], 'symbols': [], 'urls': [{'indices': [117, 140], 'display_url': 'twitter.com/i/web/status/1…', 'expanded_url': 'https://twitter.com/i/web/status/1109780512330022918', 'url': 'https://t.co/MeaYTlKGjg'}]},\n",
    "                 'in_reply_to_screen_name': 'midasIIITD', 'in_reply_to_status_id_str': '1106847696327827456', 'id_str': '1109780512330022918', 'place': None, 'in_reply_to_status_id': 1106847696327827456, 'contributors': None, 'favorited': False, 'retweet_count': 0, 'created_at': 'Sun Mar 24 11:34:27 +0000 2019'},\n",
    "          in_reply_to_status_id=1106847696327827456,\n",
    "          contributors=None,\n",
    "          author=User(location='New Delhi, India',\n",
    "                      profile_background_image_url_https=None,\n",
    "                      time_zone=None,\n",
    "                      profile_background_tile=False,\n",
    "                      screen_name='midasIIITD',\n",
    "                      profile_image_url_https='https://pbs.twimg.com/profile_images/1021356444921212928/WmSTJCUs_normal.jpg',\n",
    "                      profile_image_url='http://pbs.twimg.com/profile_images/1021356444921212928/WmSTJCUs_normal.jpg',\n",
    "                      listed_count=0, profile_background_image_url=None, profile_use_background_image=True,\n",
    "                      entities={'description': {'urls': []}, 'url': {'urls': [{'indices': [0, 23], 'display_url': 'midas.iiitd.edu.in', 'expanded_url': 'http://midas.iiitd.edu.in/', 'url': 'https://t.co/Uwg7oSM6mE'}]}},\n",
    "                      url='https://t.co/Uwg7oSM6mE',\n",
    "                      friends_count=39, created_at=datetime.datetime(2018, 7, 23, 11, 26, 4),\n",
    "                      notifications=False, statuses_count=299, id_str='1021355762575073281',\n",
    "                      profile_background_color='F5F8FA',\n",
    "                      profile_sidebar_fill_color='DDEEF6',\n",
    "                      default_profile_image=False,\n",
    "                      id=1021355762575073281,\n",
    "                      lang='en',\n",
    "                      is_translation_enabled=False,\n",
    "                      verified=False, protected=False,\n",
    "                      _api=<tweepy.api.API object at 0x7f44f1cab080>,\n",
    "                      name='MIDAS IIITD',\n",
    "                      follow_request_sent=False,\n",
    "                      favourites_count=120,\n",
    "                      has_extended_profile=False,\n",
    "                      translator_type='none',\n",
    "                      profile_sidebar_border_color='C0DEED',\n",
    "                      followers_count=177,\n",
    "                      contributors_enabled=False,\n",
    "                      utc_offset=None,\n",
    "                      following=False,\n",
    "                      geo_enabled=False,\n",
    "                      profile_link_color='1DA1F2',\n",
    "                      profile_text_color='333333',\n",
    "                      _json={'translator_type': 'none',\n",
    "                             'id_str': '1021355762575073281',\n",
    "                             'location': 'New Delhi, India',\n",
    "                             'profile_background_image_url_https': None,\n",
    "                             'time_zone': None, \n",
    "                             'contributors_enabled': False,\n",
    "                             'id': 1021355762575073281,\n",
    "                             'profile_background_tile': False,\n",
    "                             'profile_use_background_image': True,\n",
    "                             'lang': 'en',\n",
    "                             'is_translation_enabled': False,\n",
    "                             'verified': False,\n",
    "                             'protected': False,\n",
    "                             'name': 'MIDAS IIITD',\n",
    "                             'screen_name': 'midasIIITD',\n",
    "                             'favourites_count': 120,\n",
    "                             'profile_background_image_url': None,\n",
    "                             'profile_background_color': 'F5F8FA',\n",
    "                             'has_extended_profile': False,\n",
    "                             'profile_image_url_https': 'https://pbs.twimg.com/profile_images/1021356444921212928/WmSTJCUs_normal.jpg',\n",
    "                             'profile_image_url': 'http://pbs.twimg.com/profile_images/1021356444921212928/WmSTJCUs_normal.jpg',\n",
    "                             'utc_offset': None,\n",
    "                             'listed_count': 0,\n",
    "                             'default_profile': True,\n",
    "                             'followers_count': 177,\n",
    "                             'following': False,\n",
    "                             'geo_enabled': False,\n",
    "                             'profile_link_color': '1DA1F2',\n",
    "                             'profile_sidebar_fill_color': 'DDEEF6',\n",
    "                             'entities': {'description': {'urls': []}, 'url': {'urls': [{'indices': [0, 23], 'display_url': 'midas.iiitd.edu.in', 'expanded_url': 'http://midas.iiitd.edu.in/', 'url': 'https://t.co/Uwg7oSM6mE'}]}},\n",
    "                             'profile_text_color': '333333',\n",
    "                             'notifications': False,\n",
    "                             'url': 'https://t.co/Uwg7oSM6mE',\n",
    "                             'friends_count': 39,\n",
    "                             'created_at': 'Mon Jul 23 11:26:04 +0000 2018',\n",
    "                             'profile_sidebar_border_color': 'C0DEED',\n",
    "                             'follow_request_sent': False,\n",
    "                             'profile_banner_url': 'https://pbs.twimg.com/profile_banners/1021355762575073281/1552394509',\n",
    "                             'description': 'MIDAS is a group of researchers at IIIT-Delhi who study, analyze, and build different multimedia systems for society leveraging multimodal information.',\n",
    "                             'default_profile_image': False,\n",
    "                             'is_translator': False,\n",
    "                             'statuses_count': 299},\n",
    "                      profile_banner_url='https://pbs.twimg.com/profile_banners/1021355762575073281/1552394509',\n",
    "                      default_profile=True,\n",
    "                      description='MIDAS is a group of researchers at IIIT-Delhi who study, analyze, and build different multimedia systems for society leveraging multimodal information.',\n",
    "                      is_translator=False),\n",
    "          is_quote_status=False,\n",
    "          retweet_count=0,\n",
    "          created_at=datetime.datetime(2019, 3, 24, 11, 34, 27)\n",
    "         }\n",
    "         \n",
    "```"
   ]
  },
  {
   "cell_type": "code",
   "execution_count": null,
   "metadata": {},
   "outputs": [],
   "source": []
  }
 ],
 "metadata": {
  "kernelspec": {
   "display_name": "Python 3",
   "language": "python",
   "name": "python3"
  },
  "language_info": {
   "codemirror_mode": {
    "name": "ipython",
    "version": 3
   },
   "file_extension": ".py",
   "mimetype": "text/x-python",
   "name": "python",
   "nbconvert_exporter": "python",
   "pygments_lexer": "ipython3",
   "version": "3.5.2"
  }
 },
 "nbformat": 4,
 "nbformat_minor": 2
}
